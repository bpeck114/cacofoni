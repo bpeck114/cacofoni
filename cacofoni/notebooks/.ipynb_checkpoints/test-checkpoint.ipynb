{
 "cells": [
  {
   "cell_type": "code",
   "execution_count": 1,
   "id": "2a2f396e-7ac8-430d-aef1-5111aaab99e8",
   "metadata": {},
   "outputs": [],
   "source": [
    "%load_ext autoreload"
   ]
  },
  {
   "cell_type": "code",
   "execution_count": 5,
   "id": "d8ccbef3-dd5b-4365-8129-c8bcf2a06489",
   "metadata": {},
   "outputs": [
    {
     "name": "stdout",
     "output_type": "stream",
     "text": [
      "Exists? True\n"
     ]
    }
   ],
   "source": [
    "%autoreload 2\n",
    "# import cacofoni\n",
    "import os\n",
    "path = os.path.expanduser(\"~/cacofoni/cacofoni/__init__.py\")\n",
    "print(\"Exists?\", os.path.exists(path))\n",
    "import cacofoni.data\n",
    "import cacofoni\n",
    "from cacofoni.imaka_io.get_param_values import get_param_values\n",
    "from cacofoni.config import CacofoniConfig"
   ]
  },
  {
   "cell_type": "code",
   "execution_count": 35,
   "id": "34ea441d-b709-4cb2-a2ce-ddcd18ad56d0",
   "metadata": {},
   "outputs": [
    {
     "name": "stdout",
     "output_type": "stream",
     "text": [
      "Setting up make_cacofoni...\n",
      "\n",
      "File Paths:\n",
      "Telemetry file         = /home/bpeck/cacofoni/cacofoni/data/aocb0090.fits\n",
      "Parameter file         = /home/bpeck/cacofoni/cacofoni/data/imakaparm.txt\n",
      "\n",
      "Assumptions:\n",
      "Number of actuators    = 36\n",
      "Maximum number of wfs  = 5 \n",
      "Minimum frequency      = 4.0\n",
      "Maximum frequency      = 10.0\n",
      "\n",
      "Mode (M/Z): Zonal\n",
      "\n",
      "Loading telemetry FITS file...\n",
      "Number of time steps: 27000\n",
      "Number of WFS: 1\n",
      "\n",
      "Setting up empty data structure...\n",
      "WFS: 120x120 (14400) total pixels.\n",
      "WFS: 12x12 (144) total subapertures.\n",
      "WFS: 10 pixels per subaperture.\n",
      "\n",
      "Checking extensions...\n",
      "\n",
      "Running E0: \n",
      "Skipping E1: Raw wfscam data\n",
      "Skipping E2: Processed wfscam data\n",
      "Running E3: WFS centroids\n",
      "\n",
      "Finished loading telemetry data...\n",
      "[0.03688889 0.07377778 0.11066667 0.14755556]\n"
     ]
    }
   ],
   "source": [
    "# Test make_cacofoni.py\n",
    "%autoreload 2\n",
    "from cacofoni.make_cacofoni import make_cacofoni\n",
    "make_cacofoni()"
   ]
  },
  {
   "cell_type": "code",
   "execution_count": 64,
   "id": "5df8d943-4b45-43c3-b48d-eb14ec91039e",
   "metadata": {},
   "outputs": [
    {
     "name": "stdout",
     "output_type": "stream",
     "text": [
      "sys_parm.nact: [['64']]\n",
      "sys_parm.nsub: [['12']]\n",
      "sys_parm.nwfs [['1']]\n",
      "wfscam_parm.npixx: [['0', '120']]\n",
      "target_parm.gs: [['0', 'GSNAME0', '0.00', '0.00', '0.00']]\n",
      "[['64']]\n"
     ]
    }
   ],
   "source": [
    "# Test read_param_values.py\n",
    "%autoreload 2\n",
    "from cacofoni.imaka_io.get_param_values import get_param_values\n",
    "f = \"../data/imakaparm.txt\"\n",
    "\n",
    "print(\"sys_parm.nact:\", get_param_values(f, \"sys_parm.nact\"))\n",
    "print(\"sys_parm.nsub:\", get_param_values(f, \"sys_parm.nsub\"))\n",
    "print(\"sys_parm.nwfs\", get_param_values(f, \"sys_parm.nwfs\"))\n",
    "print(\"wfscam_parm.npixx:\", get_param_values(f, \"wfscam_parm.npixx\"))\n",
    "print(\"target_parm.gs:\", get_param_values(f, \"target_parm.gs\"))\n",
    "\n",
    "#from read_param_values import get_raw_param_lines\n",
    "print(get_param_values('../data/imakaparm.txt', 'sys_parm.nact'))\n"
   ]
  },
  {
   "cell_type": "code",
   "execution_count": 10,
   "id": "40f94059-2754-44f3-994d-099676162f56",
   "metadata": {},
   "outputs": [
    {
     "ename": "AttributeError",
     "evalue": "type object 'CacofoniConfig' has no attribute 'default_filename'",
     "output_type": "error",
     "traceback": [
      "\u001b[0;31m---------------------------------------------------------------------------\u001b[0m",
      "\u001b[0;31mAttributeError\u001b[0m                            Traceback (most recent call last)",
      "\u001b[0;32m<ipython-input-10-41f29f7ac8b7>\u001b[0m in \u001b[0;36m<module>\u001b[0;34m\u001b[0m\n\u001b[1;32m      2\u001b[0m \u001b[0mget_ipython\u001b[0m\u001b[0;34m(\u001b[0m\u001b[0;34m)\u001b[0m\u001b[0;34m.\u001b[0m\u001b[0mrun_line_magic\u001b[0m\u001b[0;34m(\u001b[0m\u001b[0;34m'autoreload'\u001b[0m\u001b[0;34m,\u001b[0m \u001b[0;34m'2'\u001b[0m\u001b[0;34m)\u001b[0m\u001b[0;34m\u001b[0m\u001b[0;34m\u001b[0m\u001b[0m\n\u001b[1;32m      3\u001b[0m \u001b[0;32mfrom\u001b[0m \u001b[0mcacofoni\u001b[0m\u001b[0;34m.\u001b[0m\u001b[0mutils\u001b[0m\u001b[0;34m.\u001b[0m\u001b[0mfile_utils\u001b[0m \u001b[0;32mimport\u001b[0m \u001b[0mget_valid_path\u001b[0m\u001b[0;34m\u001b[0m\u001b[0;34m\u001b[0m\u001b[0m\n\u001b[0;32m----> 4\u001b[0;31m \u001b[0mpath\u001b[0m \u001b[0;34m=\u001b[0m \u001b[0mget_valid_path\u001b[0m\u001b[0;34m(\u001b[0m\u001b[0;34m\"~/cacofoni/cacofoni/data/imakaparm.txt\"\u001b[0m\u001b[0;34m,\u001b[0m \u001b[0mCacofoniConfig\u001b[0m\u001b[0;34m.\u001b[0m\u001b[0mdefault_filename\u001b[0m\u001b[0;34m)\u001b[0m\u001b[0;34m\u001b[0m\u001b[0;34m\u001b[0m\u001b[0m\n\u001b[0m\u001b[1;32m      5\u001b[0m \u001b[0mprint\u001b[0m\u001b[0;34m(\u001b[0m\u001b[0mpath\u001b[0m\u001b[0;34m)\u001b[0m\u001b[0;34m\u001b[0m\u001b[0;34m\u001b[0m\u001b[0m\n",
      "\u001b[0;31mAttributeError\u001b[0m: type object 'CacofoniConfig' has no attribute 'default_filename'"
     ]
    }
   ],
   "source": [
    "# Test file_utils.py\n",
    "%autoreload 2\n",
    "from cacofoni.utils.file_utils import get_valid_path\n",
    "path = get_valid_path(\"~/cacofoni/cacofoni/data/imakaparm.txt\", CacofoniConfig.default_filename)\n",
    "print(path)"
   ]
  },
  {
   "cell_type": "code",
   "execution_count": 12,
   "id": "27d5e329-4120-4115-a49c-63087da9cd44",
   "metadata": {},
   "outputs": [
    {
     "name": "stdout",
     "output_type": "stream",
     "text": [
      "Number of frames: 3\n",
      "DM voltages size: 64\n",
      "WFS centroids size: 288\n",
      "WFSCAM pixels shape: 120 x 120\n"
     ]
    }
   ],
   "source": [
    "# Test initimakadatastruct.py\n",
    "from cacofoni.imaka_io.initimakadatastruct import initimakadatastruct\n",
    "\n",
    "fparam = \"../data/imakaparm.txt\"\n",
    "ntimes = 3\n",
    "\n",
    "data = initimakadatastruct(fparam, ntimes)\n",
    "\n",
    "print(\"Number of frames:\", len(data))\n",
    "print(\"DM voltages size:\", len(data[0]['dm']['voltages']))\n",
    "print(\"WFS centroids size:\", len(data[0]['wfs'][0]['centroids']))\n",
    "print(\"WFSCAM pixels shape:\", len(data[0]['wfscam'][0]['pixels']), \"x\", len(data[0]['wfscam'][0]['pixels'][0]))\n"
   ]
  },
  {
   "cell_type": "code",
   "execution_count": 7,
   "id": "83a6bacd-9cdc-45df-87d6-d7be9959d005",
   "metadata": {},
   "outputs": [],
   "source": [
    "config = CacophonyConfig()\n",
    "fparam = config.fparam_path\n",
    "default_filename_path = config.default_filename_path"
   ]
  },
  {
   "cell_type": "code",
   "execution_count": 27,
   "id": "ecc11fb8-b529-4157-b65c-928373d3ae7f",
   "metadata": {},
   "outputs": [
    {
     "name": "stdout",
     "output_type": "stream",
     "text": [
      "\n",
      "Loading telemetry FITS file...\n",
      "Number of time steps: 27000\n",
      "Number of WFS: 1\n",
      "\n",
      "Setting up empty data structure...\n",
      "WFS: 120x120 (14400) total pixels.\n",
      "WFS: 12x12 (144) total subapertures.\n",
      "WFS: 10 pixels per subaperture.\n",
      "\n",
      "Checking extensions...\n",
      "\n",
      "Running E0: \n",
      "Skipping E1: Raw wfscam data\n",
      "Skipping E2: Processed wfscam data\n",
      "Running E3: WFS centroids\n",
      "(288, 27000)\n",
      "mes1_centered shape: (288, 27000)\n",
      "Centered row 0 (first 5): [0. 0. 0. 0. 0.]\n"
     ]
    }
   ],
   "source": [
    "# Test irdfits.py\n",
    "from cacofoni.imaka_io.irdfits import irdfits\n",
    "from astropy.io import fits\n",
    "import numpy as np\n",
    "\n",
    "with fits.open(\"../data/aocb0090.fits\") as hdul:\n",
    "    h0 = hdul[0].header\n",
    "    d0 = hdul[0].data \n",
    "    ntimes = h0.get('NAXIS2', d0.shape[0]) \n",
    "    \n",
    "cb = irdfits(\"../data/aocb0090.fits\",\"../data/imakaparm.txt\", exten=[1,0,0,1,0,0,0,0])\n",
    "# Step 1: Get the centroids for WFS i=0 across all time steps\n",
    "\n",
    "# Optional: quick check\n",
    "print(\"mes1_centered shape:\", mes1_centered.shape)\n",
    "print(\"Centered row 0 (first 5):\", mes1_centered[0, :5])"
   ]
  },
  {
   "cell_type": "code",
   "execution_count": 23,
   "id": "549c1f36-23ab-43b2-8bec-bbc41d1db0da",
   "metadata": {},
   "outputs": [],
   "source": []
  },
  {
   "cell_type": "code",
   "execution_count": null,
   "id": "38caa10d-b4a7-47e4-b712-844d68dba63c",
   "metadata": {},
   "outputs": [],
   "source": []
  },
  {
   "cell_type": "code",
   "execution_count": null,
   "id": "f2aa549d-52b4-4253-8ff4-b173dde335ff",
   "metadata": {},
   "outputs": [],
   "source": []
  },
  {
   "cell_type": "code",
   "execution_count": null,
   "id": "0c109eac-a527-4b0b-bcac-894530b14979",
   "metadata": {},
   "outputs": [],
   "source": []
  },
  {
   "cell_type": "code",
   "execution_count": null,
   "id": "e2a3f63a-88af-4846-9384-289420678d29",
   "metadata": {},
   "outputs": [],
   "source": [
    "\n"
   ]
  },
  {
   "cell_type": "code",
   "execution_count": null,
   "id": "b6198566-4c99-4056-9671-e981fe7dfb4e",
   "metadata": {},
   "outputs": [],
   "source": []
  },
  {
   "cell_type": "code",
   "execution_count": 18,
   "id": "2a918b8f-51df-4979-bc82-5c5710b8fb16",
   "metadata": {},
   "outputs": [],
   "source": [
    "# Test in IDL:\n",
    "# cb = irdfits('~/cacofoni/cacofoni/data/aocb0090.fits', fparm='~/cacofoni/cacofoni/data/imakaparm.txt')\n",
    "\n",
    "# Check the shape\n",
    "# PRINT, SIZE(cb)    \n",
    "\n",
    "# Check the first few values\n",
    "#PRINT, freq[0:4]"
   ]
  },
  {
   "cell_type": "code",
   "execution_count": null,
   "id": "1d1ed700-2aee-4563-b9bc-c0de728e31e4",
   "metadata": {},
   "outputs": [],
   "source": []
  },
  {
   "cell_type": "code",
   "execution_count": null,
   "id": "cffee03d-57a6-4fd6-95fd-7b83f6576781",
   "metadata": {},
   "outputs": [],
   "source": []
  },
  {
   "cell_type": "code",
   "execution_count": null,
   "id": "2d426211-6de2-40b3-b0eb-c80e00eeb609",
   "metadata": {},
   "outputs": [],
   "source": []
  }
 ],
 "metadata": {
  "kernelspec": {
   "display_name": "Python (cacofoni_env)",
   "language": "python",
   "name": "cacofoni_env"
  },
  "language_info": {
   "codemirror_mode": {
    "name": "ipython",
    "version": 3
   },
   "file_extension": ".py",
   "mimetype": "text/x-python",
   "name": "python",
   "nbconvert_exporter": "python",
   "pygments_lexer": "ipython3",
   "version": "3.6.8"
  }
 },
 "nbformat": 4,
 "nbformat_minor": 5
}
