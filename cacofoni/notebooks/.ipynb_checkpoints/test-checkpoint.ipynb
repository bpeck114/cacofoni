{
 "cells": [
  {
   "cell_type": "code",
   "execution_count": 1,
   "id": "2a2f396e-7ac8-430d-aef1-5111aaab99e8",
   "metadata": {},
   "outputs": [],
   "source": [
    "%load_ext autoreload"
   ]
  },
  {
   "cell_type": "code",
   "execution_count": 4,
   "id": "d8ccbef3-dd5b-4365-8129-c8bcf2a06489",
   "metadata": {},
   "outputs": [
    {
     "name": "stdout",
     "output_type": "stream",
     "text": [
      "Exists? True\n"
     ]
    }
   ],
   "source": [
    "%autoreload 2\n",
    "# import cacofoni\n",
    "import os\n",
    "path = os.path.expanduser(\"~/cacofoni/cacofoni/__init__.py\")\n",
    "print(\"Exists?\", os.path.exists(path))\n",
    "import cacofoni.data\n",
    "import cacofoni\n",
    "from cacofoni.imaka_io.get_param_values import get_param_values\n",
    "from cacofoni.config import CacofoniConfig"
   ]
  },
  {
   "cell_type": "code",
   "execution_count": 21,
   "id": "34ea441d-b709-4cb2-a2ce-ddcd18ad56d0",
   "metadata": {},
   "outputs": [
    {
     "name": "stdout",
     "output_type": "stream",
     "text": [
      "Setting up make_cacofoni...\n",
      "\n",
      "File Paths:\n",
      "Telemetry File:      /home/bpeck/cacofoni/cacofoni/data/aocb0090.fits\n",
      "Parameter File:      /home/bpeck/cacofoni/cacofoni/data/imakaparm.txt\n",
      "\n",
      "Assumptions:\n",
      "Number of Actuators: 36\n",
      "Minimum Frequency:   4.0\n",
      "Maximum Frequency:   10.0\n",
      "\n",
      "Mode (M/Z): Modal\n",
      "Mirror Modes File:  /home/bpeck/cacofoni/cacofoni/data/mm2a_norm.fits\n"
     ]
    },
    {
     "ename": "NameError",
     "evalue": "name 'nwfs_max' is not defined",
     "output_type": "error",
     "traceback": [
      "\u001b[0;31m---------------------------------------------------------------------------\u001b[0m",
      "\u001b[0;31mNameError\u001b[0m                                 Traceback (most recent call last)",
      "\u001b[0;32m<ipython-input-21-4e01479c5081>\u001b[0m in \u001b[0;36m<module>\u001b[0;34m\u001b[0m\n\u001b[1;32m      2\u001b[0m \u001b[0mget_ipython\u001b[0m\u001b[0;34m(\u001b[0m\u001b[0;34m)\u001b[0m\u001b[0;34m.\u001b[0m\u001b[0mrun_line_magic\u001b[0m\u001b[0;34m(\u001b[0m\u001b[0;34m'autoreload'\u001b[0m\u001b[0;34m,\u001b[0m \u001b[0;34m'2'\u001b[0m\u001b[0;34m)\u001b[0m\u001b[0;34m\u001b[0m\u001b[0;34m\u001b[0m\u001b[0m\n\u001b[1;32m      3\u001b[0m \u001b[0;32mfrom\u001b[0m \u001b[0mcacofoni\u001b[0m\u001b[0;34m.\u001b[0m\u001b[0mmake_cacofoni\u001b[0m \u001b[0;32mimport\u001b[0m \u001b[0mmake_cacofoni\u001b[0m\u001b[0;34m\u001b[0m\u001b[0;34m\u001b[0m\u001b[0m\n\u001b[0;32m----> 4\u001b[0;31m \u001b[0mmake_cacofoni\u001b[0m\u001b[0;34m(\u001b[0m\u001b[0mmodal\u001b[0m\u001b[0;34m=\u001b[0m\u001b[0;32mTrue\u001b[0m\u001b[0;34m)\u001b[0m\u001b[0;34m\u001b[0m\u001b[0;34m\u001b[0m\u001b[0m\n\u001b[0m",
      "\u001b[0;32m~/cacofoni/cacofoni/make_cacofoni.py\u001b[0m in \u001b[0;36mmake_cacofoni\u001b[0;34m(ftele, fparam, fmirror, config, closed, modal, silent, thresh, compute_laplacian)\u001b[0m\n\u001b[1;32m     58\u001b[0m     \u001b[0;31m# 1) Load the FITS telemetry and parameter structure with irdfits\u001b[0m\u001b[0;34m\u001b[0m\u001b[0;34m\u001b[0m\u001b[0;34m\u001b[0m\u001b[0m\n\u001b[1;32m     59\u001b[0m     \u001b[0mexten\u001b[0m \u001b[0;34m=\u001b[0m \u001b[0mconfig\u001b[0m\u001b[0;34m.\u001b[0m\u001b[0mextension\u001b[0m\u001b[0;34m\u001b[0m\u001b[0;34m\u001b[0m\u001b[0m\n\u001b[0;32m---> 60\u001b[0;31m     \u001b[0mcb\u001b[0m \u001b[0;34m=\u001b[0m \u001b[0mirdfits\u001b[0m\u001b[0;34m(\u001b[0m\u001b[0mptele\u001b[0m\u001b[0;34m,\u001b[0m \u001b[0mpparam\u001b[0m\u001b[0;34m,\u001b[0m \u001b[0mexten\u001b[0m\u001b[0;34m)\u001b[0m\u001b[0;34m\u001b[0m\u001b[0;34m\u001b[0m\u001b[0m\n\u001b[0m\u001b[1;32m     61\u001b[0m \u001b[0;34m\u001b[0m\u001b[0m\n\u001b[1;32m     62\u001b[0m     \u001b[0;32mreturn\u001b[0m\u001b[0;34m\u001b[0m\u001b[0;34m\u001b[0m\u001b[0m\n",
      "\u001b[0;32m~/cacofoni/cacofoni/imaka_io/irdfits.py\u001b[0m in \u001b[0;36mirdfits\u001b[0;34m(ftele, fparam, exten)\u001b[0m\n\u001b[1;32m     30\u001b[0m         \u001b[0mnwfs\u001b[0m \u001b[0;34m=\u001b[0m \u001b[0mh0\u001b[0m\u001b[0;34m[\u001b[0m\u001b[0;34m'NWFS'\u001b[0m\u001b[0;34m]\u001b[0m\u001b[0;34m\u001b[0m\u001b[0;34m\u001b[0m\u001b[0m\n\u001b[1;32m     31\u001b[0m \u001b[0;34m\u001b[0m\u001b[0m\n\u001b[0;32m---> 32\u001b[0;31m         \u001b[0mdata\u001b[0m \u001b[0;34m=\u001b[0m \u001b[0minitimakadatastruct\u001b[0m\u001b[0;34m(\u001b[0m\u001b[0mntimes\u001b[0m\u001b[0;34m=\u001b[0m\u001b[0mntimes\u001b[0m\u001b[0;34m,\u001b[0m \u001b[0mfparam\u001b[0m\u001b[0;34m=\u001b[0m\u001b[0mfparam\u001b[0m\u001b[0;34m)\u001b[0m\u001b[0;34m\u001b[0m\u001b[0;34m\u001b[0m\u001b[0m\n\u001b[0m\u001b[1;32m     33\u001b[0m \u001b[0;34m\u001b[0m\u001b[0m\n\u001b[1;32m     34\u001b[0m         \u001b[0;32mfor\u001b[0m \u001b[0mt\u001b[0m \u001b[0;32min\u001b[0m \u001b[0mrange\u001b[0m\u001b[0;34m(\u001b[0m\u001b[0mntimes\u001b[0m\u001b[0;34m)\u001b[0m\u001b[0;34m:\u001b[0m\u001b[0;34m\u001b[0m\u001b[0;34m\u001b[0m\u001b[0m\n",
      "\u001b[0;32m~/cacofoni/cacofoni/imaka_io/initimakadatastruct.py\u001b[0m in \u001b[0;36minitimakadatastruct\u001b[0;34m(fparam, ntimes)\u001b[0m\n\u001b[1;32m     46\u001b[0m     \u001b[0;31m# WFS sensor data\u001b[0m\u001b[0;34m\u001b[0m\u001b[0;34m\u001b[0m\u001b[0;34m\u001b[0m\u001b[0m\n\u001b[1;32m     47\u001b[0m     \u001b[0mwfs_data\u001b[0m \u001b[0;34m=\u001b[0m \u001b[0;34m[\u001b[0m\u001b[0;34m]\u001b[0m\u001b[0;34m\u001b[0m\u001b[0;34m\u001b[0m\u001b[0m\n\u001b[0;32m---> 48\u001b[0;31m     \u001b[0;32mfor\u001b[0m \u001b[0m_\u001b[0m \u001b[0;32min\u001b[0m \u001b[0mrange\u001b[0m\u001b[0;34m(\u001b[0m\u001b[0mnwfs_max\u001b[0m\u001b[0;34m)\u001b[0m\u001b[0;34m:\u001b[0m\u001b[0;34m\u001b[0m\u001b[0;34m\u001b[0m\u001b[0m\n\u001b[0m\u001b[1;32m     49\u001b[0m         wfs_data.append({\n\u001b[1;32m     50\u001b[0m             \u001b[0;34m\"raw_centroids\"\u001b[0m\u001b[0;34m:\u001b[0m \u001b[0;34m[\u001b[0m\u001b[0;36m0.0\u001b[0m\u001b[0;34m]\u001b[0m \u001b[0;34m*\u001b[0m \u001b[0;34m(\u001b[0m\u001b[0;36m2\u001b[0m \u001b[0;34m*\u001b[0m \u001b[0mnsub_total\u001b[0m\u001b[0;34m)\u001b[0m\u001b[0;34m,\u001b[0m\u001b[0;34m\u001b[0m\u001b[0;34m\u001b[0m\u001b[0m\n",
      "\u001b[0;31mNameError\u001b[0m: name 'nwfs_max' is not defined"
     ]
    }
   ],
   "source": [
    "# Test make_cacofoni.py\n",
    "%autoreload 2\n",
    "from cacofoni.make_cacofoni import make_cacofoni\n",
    "make_cacofoni(modal=True)"
   ]
  },
  {
   "cell_type": "code",
   "execution_count": 13,
   "id": "5df8d943-4b45-43c3-b48d-eb14ec91039e",
   "metadata": {},
   "outputs": [
    {
     "name": "stdout",
     "output_type": "stream",
     "text": [
      "sys_parm.nact: [['64']]\n",
      "sys_parm.nsub: [['12']]\n",
      "sys_parm.nwfs [['1']]\n",
      "wfscam_parm.npixx: [['0', '120']]\n",
      "target_parm.gs: [['0', 'GSNAME0', '0.00', '0.00', '0.00']]\n"
     ]
    }
   ],
   "source": [
    "# Test read_param_values.py\n",
    "%autoreload 2\n",
    "from cacofoni.imaka_io.get_param_values import get_param_values\n",
    "f = \"../data/imakaparm.txt\"\n",
    "\n",
    "print(\"sys_parm.nact:\", get_param_values(f, \"sys_parm.nact\"))\n",
    "print(\"sys_parm.nsub:\", get_param_values(f, \"sys_parm.nsub\"))\n",
    "print(\"sys_parm.nwfs\", get_param_values(f, \"sys_parm.nwfs\"))\n",
    "print(\"wfscam_parm.npixx:\", get_param_values(f, \"wfscam_parm.npixx\"))\n",
    "print(\"target_parm.gs:\", get_param_values(f, \"target_parm.gs\"))"
   ]
  },
  {
   "cell_type": "code",
   "execution_count": 10,
   "id": "40f94059-2754-44f3-994d-099676162f56",
   "metadata": {},
   "outputs": [
    {
     "ename": "AttributeError",
     "evalue": "type object 'CacofoniConfig' has no attribute 'default_filename'",
     "output_type": "error",
     "traceback": [
      "\u001b[0;31m---------------------------------------------------------------------------\u001b[0m",
      "\u001b[0;31mAttributeError\u001b[0m                            Traceback (most recent call last)",
      "\u001b[0;32m<ipython-input-10-41f29f7ac8b7>\u001b[0m in \u001b[0;36m<module>\u001b[0;34m\u001b[0m\n\u001b[1;32m      2\u001b[0m \u001b[0mget_ipython\u001b[0m\u001b[0;34m(\u001b[0m\u001b[0;34m)\u001b[0m\u001b[0;34m.\u001b[0m\u001b[0mrun_line_magic\u001b[0m\u001b[0;34m(\u001b[0m\u001b[0;34m'autoreload'\u001b[0m\u001b[0;34m,\u001b[0m \u001b[0;34m'2'\u001b[0m\u001b[0;34m)\u001b[0m\u001b[0;34m\u001b[0m\u001b[0;34m\u001b[0m\u001b[0m\n\u001b[1;32m      3\u001b[0m \u001b[0;32mfrom\u001b[0m \u001b[0mcacofoni\u001b[0m\u001b[0;34m.\u001b[0m\u001b[0mutils\u001b[0m\u001b[0;34m.\u001b[0m\u001b[0mfile_utils\u001b[0m \u001b[0;32mimport\u001b[0m \u001b[0mget_valid_path\u001b[0m\u001b[0;34m\u001b[0m\u001b[0;34m\u001b[0m\u001b[0m\n\u001b[0;32m----> 4\u001b[0;31m \u001b[0mpath\u001b[0m \u001b[0;34m=\u001b[0m \u001b[0mget_valid_path\u001b[0m\u001b[0;34m(\u001b[0m\u001b[0;34m\"~/cacofoni/cacofoni/data/imakaparm.txt\"\u001b[0m\u001b[0;34m,\u001b[0m \u001b[0mCacofoniConfig\u001b[0m\u001b[0;34m.\u001b[0m\u001b[0mdefault_filename\u001b[0m\u001b[0;34m)\u001b[0m\u001b[0;34m\u001b[0m\u001b[0;34m\u001b[0m\u001b[0m\n\u001b[0m\u001b[1;32m      5\u001b[0m \u001b[0mprint\u001b[0m\u001b[0;34m(\u001b[0m\u001b[0mpath\u001b[0m\u001b[0;34m)\u001b[0m\u001b[0;34m\u001b[0m\u001b[0;34m\u001b[0m\u001b[0m\n",
      "\u001b[0;31mAttributeError\u001b[0m: type object 'CacofoniConfig' has no attribute 'default_filename'"
     ]
    }
   ],
   "source": [
    "# Test file_utils.py\n",
    "%autoreload 2\n",
    "from cacofoni.utils.file_utils import get_valid_path\n",
    "path = get_valid_path(\"~/cacofoni/cacofoni/data/imakaparm.txt\", CacofoniConfig.default_filename)\n",
    "print(path)"
   ]
  },
  {
   "cell_type": "code",
   "execution_count": 11,
   "id": "27d5e329-4120-4115-a49c-63087da9cd44",
   "metadata": {},
   "outputs": [
    {
     "name": "stdout",
     "output_type": "stream",
     "text": [
      "True ['1']\n"
     ]
    }
   ],
   "source": [
    "# Test "
   ]
  },
  {
   "cell_type": "code",
   "execution_count": 7,
   "id": "83a6bacd-9cdc-45df-87d6-d7be9959d005",
   "metadata": {},
   "outputs": [],
   "source": [
    "config = CacophonyConfig()\n",
    "fparam = config.fparam_path\n",
    "default_filename_path = config.default_filename_path"
   ]
  },
  {
   "cell_type": "code",
   "execution_count": 29,
   "id": "ecc11fb8-b529-4157-b65c-928373d3ae7f",
   "metadata": {},
   "outputs": [
    {
     "name": "stdout",
     "output_type": "stream",
     "text": [
      "deltav shape: (27000, 64)\n",
      "voltages shape: (27000, 64)\n",
      "Sample values:\n",
      "deltav[0:4, 0]: [0.00322596 0.00281273 0.00236834 0.00203195]\n"
     ]
    }
   ],
   "source": [
    "from cacofoni.imaka_io.irdfits import irdfits\n",
    "\n",
    "cb = irdfits(\"~/cacofoni/cacofoni/data/aocb0090.fits\",\"~/cacofoni/cacofoni/data/imakaparm.txt\", exten=[0,0,0,0,1,0,0,0])\n",
    "\n",
    "\n",
    "cb = irdfits(default_filename_path, fparm=fparam, exten=4)\n",
    "dm = cb['dm']\n",
    "\n",
    "print(\"deltav shape:\", dm['deltav'].shape)\n",
    "print(\"voltages shape:\", dm['voltages'].shape)\n",
    "\n",
    "print(\"Sample values:\")\n",
    "print(\"deltav[0:4, 0]:\", dm['deltav'][0:4, 0])\n"
   ]
  },
  {
   "cell_type": "code",
   "execution_count": 23,
   "id": "549c1f36-23ab-43b2-8bec-bbc41d1db0da",
   "metadata": {},
   "outputs": [],
   "source": [
    "test = 1"
   ]
  },
  {
   "cell_type": "code",
   "execution_count": 24,
   "id": "38caa10d-b4a7-47e4-b712-844d68dba63c",
   "metadata": {},
   "outputs": [
    {
     "name": "stdout",
     "output_type": "stream",
     "text": [
      "test 1\n"
     ]
    }
   ],
   "source": [
    "print(f\"test {test}\")"
   ]
  },
  {
   "cell_type": "code",
   "execution_count": null,
   "id": "f2aa549d-52b4-4253-8ff4-b173dde335ff",
   "metadata": {},
   "outputs": [],
   "source": []
  },
  {
   "cell_type": "code",
   "execution_count": null,
   "id": "0c109eac-a527-4b0b-bcac-894530b14979",
   "metadata": {},
   "outputs": [],
   "source": []
  },
  {
   "cell_type": "code",
   "execution_count": null,
   "id": "e2a3f63a-88af-4846-9384-289420678d29",
   "metadata": {},
   "outputs": [],
   "source": []
  },
  {
   "cell_type": "code",
   "execution_count": null,
   "id": "b6198566-4c99-4056-9671-e981fe7dfb4e",
   "metadata": {},
   "outputs": [],
   "source": []
  },
  {
   "cell_type": "code",
   "execution_count": 59,
   "id": "2a918b8f-51df-4979-bc82-5c5710b8fb16",
   "metadata": {},
   "outputs": [],
   "source": [
    "# Test in IDL:\n",
    "# cb = irdfits('~/cacofoni/cacofoni/data/aocb0090.fits', fparm='~/cacofoni/cacofoni/data/imakaparm.txt')\n",
    "# cb_dm = cb.dm\n",
    "# voltages = cb_dm.voltages\n",
    "# deltav = cb_dm.deltav"
   ]
  },
  {
   "cell_type": "code",
   "execution_count": 63,
   "id": "cffee03d-57a6-4fd6-95fd-7b83f6576781",
   "metadata": {},
   "outputs": [
    {
     "name": "stdout",
     "output_type": "stream",
     "text": [
      "Setting up make_cacofoni...\n",
      "\n",
      "File Paths:\n",
      "Telemetry File:      /home/bpeck/cacofoni/cacofoni/data/aocb0090.fits\n",
      "Parameter File:      /home/bpeck/cacofoni/cacofoni/data/imakaparm.txt\n",
      "\n",
      "Assumptions:\n",
      "Number of Actuators: 36\n",
      "Minimum Frequency:   4.0\n",
      "Maximum Frequency:   10.0\n",
      "\n",
      "Mode (M/Z): Zonal\n",
      "\n",
      "Mode (C/O): Closed loop (using deltaV)\n",
      "Telemetry contains 27000 frames.\n",
      "Computed deltav with shape: (0,)\n"
     ]
    },
    {
     "ename": "IndexError",
     "evalue": "too many indices for array: array is 1-dimensional, but 2 were indexed",
     "output_type": "error",
     "traceback": [
      "\u001b[0;31m---------------------------------------------------------------------------\u001b[0m",
      "\u001b[0;31mIndexError\u001b[0m                                Traceback (most recent call last)",
      "\u001b[0;32m<ipython-input-63-9d5ed44ea29b>\u001b[0m in \u001b[0;36m<module>\u001b[0;34m\u001b[0m\n\u001b[1;32m      3\u001b[0m \u001b[0;32mfrom\u001b[0m \u001b[0mcacofoni\u001b[0m\u001b[0;34m.\u001b[0m\u001b[0mmake_cacofoni\u001b[0m \u001b[0;32mimport\u001b[0m \u001b[0mmake_cacofoni\u001b[0m\u001b[0;34m\u001b[0m\u001b[0;34m\u001b[0m\u001b[0m\n\u001b[1;32m      4\u001b[0m \u001b[0;34m\u001b[0m\u001b[0m\n\u001b[0;32m----> 5\u001b[0;31m \u001b[0mmake_cacofoni\u001b[0m\u001b[0;34m(\u001b[0m\u001b[0mclosed\u001b[0m\u001b[0;34m=\u001b[0m\u001b[0;32mTrue\u001b[0m\u001b[0;34m)\u001b[0m\u001b[0;34m\u001b[0m\u001b[0;34m\u001b[0m\u001b[0m\n\u001b[0m\u001b[1;32m      6\u001b[0m \u001b[0mprint\u001b[0m\u001b[0;34m(\u001b[0m\u001b[0;34m\"Voltages sample:\\n\"\u001b[0m\u001b[0;34m,\u001b[0m \u001b[0mvoltages\u001b[0m\u001b[0;34m[\u001b[0m\u001b[0;34m:\u001b[0m\u001b[0;36m5\u001b[0m\u001b[0;34m,\u001b[0m \u001b[0;34m:\u001b[0m\u001b[0;36m5\u001b[0m\u001b[0;34m]\u001b[0m\u001b[0;34m)\u001b[0m\u001b[0;34m\u001b[0m\u001b[0;34m\u001b[0m\u001b[0m\n\u001b[1;32m      7\u001b[0m \u001b[0mprint\u001b[0m\u001b[0;34m(\u001b[0m\u001b[0;34m\"Deltav sample:\\n\"\u001b[0m\u001b[0;34m,\u001b[0m \u001b[0mdeltav\u001b[0m\u001b[0;34m[\u001b[0m\u001b[0;34m:\u001b[0m\u001b[0;36m5\u001b[0m\u001b[0;34m,\u001b[0m \u001b[0;34m:\u001b[0m\u001b[0;36m5\u001b[0m\u001b[0;34m]\u001b[0m\u001b[0;34m)\u001b[0m\u001b[0;34m\u001b[0m\u001b[0;34m\u001b[0m\u001b[0m\n",
      "\u001b[0;32m~/cacofoni/cacofoni/make_cacofoni.py\u001b[0m in \u001b[0;36mmake_cacofoni\u001b[0;34m(ftele, fparam, fmirror, config, closed, modal, silent, thresh, compute_laplacian)\u001b[0m\n\u001b[1;32m     86\u001b[0m         \u001b[0mprint\u001b[0m\u001b[0;34m(\u001b[0m\u001b[0;34mf\"Computed deltav with shape: {deltav.shape}\"\u001b[0m\u001b[0;34m)\u001b[0m\u001b[0;34m\u001b[0m\u001b[0;34m\u001b[0m\u001b[0m\n\u001b[1;32m     87\u001b[0m \u001b[0;34m\u001b[0m\u001b[0m\n\u001b[0;32m---> 88\u001b[0;31m     \u001b[0mprint\u001b[0m\u001b[0;34m(\u001b[0m\u001b[0;34m\"Voltages sample:\\n\"\u001b[0m\u001b[0;34m,\u001b[0m \u001b[0mvoltages\u001b[0m\u001b[0;34m[\u001b[0m\u001b[0;34m:\u001b[0m\u001b[0;36m5\u001b[0m\u001b[0;34m,\u001b[0m \u001b[0;34m:\u001b[0m\u001b[0;36m5\u001b[0m\u001b[0;34m]\u001b[0m\u001b[0;34m)\u001b[0m\u001b[0;34m\u001b[0m\u001b[0;34m\u001b[0m\u001b[0m\n\u001b[0m\u001b[1;32m     89\u001b[0m     \u001b[0mprint\u001b[0m\u001b[0;34m(\u001b[0m\u001b[0;34m\"Deltav sample:\\n\"\u001b[0m\u001b[0;34m,\u001b[0m \u001b[0mdeltav\u001b[0m\u001b[0;34m[\u001b[0m\u001b[0;34m:\u001b[0m\u001b[0;36m5\u001b[0m\u001b[0;34m,\u001b[0m \u001b[0;34m:\u001b[0m\u001b[0;36m5\u001b[0m\u001b[0;34m]\u001b[0m\u001b[0;34m)\u001b[0m\u001b[0;34m\u001b[0m\u001b[0;34m\u001b[0m\u001b[0m\n\u001b[1;32m     90\u001b[0m \u001b[0;34m\u001b[0m\u001b[0m\n",
      "\u001b[0;31mIndexError\u001b[0m: too many indices for array: array is 1-dimensional, but 2 were indexed"
     ]
    }
   ],
   "source": [
    "from astropy.io import fits\n",
    "import numpy as np\n",
    "from cacofoni.make_cacofoni import make_cacofoni\n",
    "\n",
    "make_cacofoni(closed=True)\n",
    "print(\"Voltages sample:\\n\", voltages[:5, :5])\n",
    "print(\"Deltav sample:\\n\", deltav[:5, :5])\n"
   ]
  },
  {
   "cell_type": "code",
   "execution_count": null,
   "id": "2d426211-6de2-40b3-b0eb-c80e00eeb609",
   "metadata": {},
   "outputs": [],
   "source": []
  }
 ],
 "metadata": {
  "kernelspec": {
   "display_name": "Python (cacofoni_env)",
   "language": "python",
   "name": "cacofoni_env"
  },
  "language_info": {
   "codemirror_mode": {
    "name": "ipython",
    "version": 3
   },
   "file_extension": ".py",
   "mimetype": "text/x-python",
   "name": "python",
   "nbconvert_exporter": "python",
   "pygments_lexer": "ipython3",
   "version": "3.6.8"
  }
 },
 "nbformat": 4,
 "nbformat_minor": 5
}
