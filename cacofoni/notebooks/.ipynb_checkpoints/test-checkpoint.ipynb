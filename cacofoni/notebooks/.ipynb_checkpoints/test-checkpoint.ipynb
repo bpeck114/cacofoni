{
 "cells": [
  {
   "cell_type": "code",
   "execution_count": 24,
   "id": "2a2f396e-7ac8-430d-aef1-5111aaab99e8",
   "metadata": {},
   "outputs": [
    {
     "name": "stdout",
     "output_type": "stream",
     "text": [
      "Exists? True\n"
     ]
    }
   ],
   "source": [
    "#load_ext autoreload\n",
    "%autoreload 2\n",
    "\n",
    "import os\n",
    "path = os.path.expanduser(\"~/cacofoni/cacofoni/__init__.py\")\n",
    "print(\"Exists?\", os.path.exists(path))\n",
    "import cacofoni.data"
   ]
  },
  {
   "cell_type": "code",
   "execution_count": 25,
   "id": "549c1f36-23ab-43b2-8bec-bbc41d1db0da",
   "metadata": {},
   "outputs": [
    {
     "name": "stdout",
     "output_type": "stream",
     "text": [
      "<module 'cacofoni.data' from '/home/bpeck/cacofoni/cacofoni/data/__init__.py'>\n"
     ]
    }
   ],
   "source": [
    "print(cacofoni.data)"
   ]
  },
  {
   "cell_type": "code",
   "execution_count": 27,
   "id": "38caa10d-b4a7-47e4-b712-844d68dba63c",
   "metadata": {},
   "outputs": [],
   "source": [
    "import importlib_resources as resources"
   ]
  },
  {
   "cell_type": "code",
   "execution_count": 2,
   "id": "f2aa549d-52b4-4253-8ff4-b173dde335ff",
   "metadata": {},
   "outputs": [
    {
     "ename": "ModuleNotFoundError",
     "evalue": "No module named 'cacofoni'",
     "output_type": "error",
     "traceback": [
      "\u001b[0;31m---------------------------------------------------------------------------\u001b[0m",
      "\u001b[0;31mModuleNotFoundError\u001b[0m                       Traceback (most recent call last)",
      "\u001b[0;32m<ipython-input-2-6dbdc77401f3>\u001b[0m in \u001b[0;36m<module>\u001b[0;34m\u001b[0m\n\u001b[1;32m      2\u001b[0m \u001b[0;32mfrom\u001b[0m \u001b[0mastropy\u001b[0m\u001b[0;34m.\u001b[0m\u001b[0mio\u001b[0m \u001b[0;32mimport\u001b[0m \u001b[0mfits\u001b[0m\u001b[0;34m\u001b[0m\u001b[0;34m\u001b[0m\u001b[0m\n\u001b[1;32m      3\u001b[0m \u001b[0;31m#from cacofoni.config import CacophonyConfig\u001b[0m\u001b[0;34m\u001b[0m\u001b[0;34m\u001b[0m\u001b[0;34m\u001b[0m\u001b[0m\n\u001b[0;32m----> 4\u001b[0;31m \u001b[0;32mimport\u001b[0m \u001b[0mcacofoni\u001b[0m\u001b[0;34m\u001b[0m\u001b[0;34m\u001b[0m\u001b[0m\n\u001b[0m",
      "\u001b[0;31mModuleNotFoundError\u001b[0m: No module named 'cacofoni'"
     ]
    }
   ],
   "source": [
    "#%autoreload 2\n",
    "from astropy.io import fits\n",
    "#from cacofoni.config import CacophonyConfig\n",
    "import cacofoni"
   ]
  },
  {
   "cell_type": "code",
   "execution_count": null,
   "id": "0c109eac-a527-4b0b-bcac-894530b14979",
   "metadata": {},
   "outputs": [],
   "source": [
    "hdul = fits.open("
   ]
  }
 ],
 "metadata": {
  "kernelspec": {
   "display_name": "Python (cacofoni_env)",
   "language": "python",
   "name": "cacofoni_env"
  },
  "language_info": {
   "codemirror_mode": {
    "name": "ipython",
    "version": 3
   },
   "file_extension": ".py",
   "mimetype": "text/x-python",
   "name": "python",
   "nbconvert_exporter": "python",
   "pygments_lexer": "ipython3",
   "version": "3.6.8"
  }
 },
 "nbformat": 4,
 "nbformat_minor": 5
}
