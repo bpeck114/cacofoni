{
 "cells": [
  {
   "cell_type": "code",
   "execution_count": 3,
   "id": "2a2f396e-7ac8-430d-aef1-5111aaab99e8",
   "metadata": {},
   "outputs": [
    {
     "name": "stdout",
     "output_type": "stream",
     "text": [
      "The autoreload extension is already loaded. To reload it, use:\n",
      "  %reload_ext autoreload\n",
      "Exists? True\n"
     ]
    }
   ],
   "source": [
    "%load_ext autoreload"
   ]
  },
  {
   "cell_type": "code",
   "execution_count": 13,
   "id": "d8ccbef3-dd5b-4365-8129-c8bcf2a06489",
   "metadata": {},
   "outputs": [
    {
     "name": "stdout",
     "output_type": "stream",
     "text": [
      "Exists? True\n"
     ]
    }
   ],
   "source": [
    "%autoreload 2\n",
    "# Import cacofoni\n",
    "import os\n",
    "path = os.path.expanduser(\"~/cacofoni/cacofoni/__init__.py\")\n",
    "print(\"Exists?\", os.path.exists(path))\n",
    "import cacofoni.data\n",
    "import cacofoni\n",
    "from cacofoni.config import CacophonyConfig"
   ]
  },
  {
   "cell_type": "code",
   "execution_count": 26,
   "id": "83a6bacd-9cdc-45df-87d6-d7be9959d005",
   "metadata": {},
   "outputs": [],
   "source": [
    "config = CacophonyConfig()\n",
    "fparam = config.fparam_path\n",
    "default_filename_path = config.default_filename_path"
   ]
  },
  {
   "cell_type": "code",
   "execution_count": 29,
   "id": "ecc11fb8-b529-4157-b65c-928373d3ae7f",
   "metadata": {},
   "outputs": [
    {
     "name": "stdout",
     "output_type": "stream",
     "text": [
      "deltav shape: (27000, 64)\n",
      "voltages shape: (27000, 64)\n",
      "Sample values:\n",
      "deltav[0:4, 0]: [0.00322596 0.00281273 0.00236834 0.00203195]\n"
     ]
    }
   ],
   "source": [
    "from cacofoni.imaka_io.irdfits import irdfits\n",
    "\n",
    "cb = irdfits(\"~/cacofoni/cacofoni/data/aocb0090.fits\",\"~/cacofoni/cacofoni/data/imakaparm.txt\", exten=[0,0,0,0,1,0,0,0])\n",
    "\n",
    "\n",
    "cb = irdfits(default_filename_path, fparm=fparam, exten=4)\n",
    "dm = cb['dm']\n",
    "\n",
    "print(\"deltav shape:\", dm['deltav'].shape)\n",
    "print(\"voltages shape:\", dm['voltages'].shape)\n",
    "\n",
    "print(\"Sample values:\")\n",
    "print(\"deltav[0:4, 0]:\", dm['deltav'][0:4, 0])\n"
   ]
  },
  {
   "cell_type": "code",
   "execution_count": 6,
   "id": "549c1f36-23ab-43b2-8bec-bbc41d1db0da",
   "metadata": {},
   "outputs": [],
   "source": []
  },
  {
   "cell_type": "code",
   "execution_count": null,
   "id": "38caa10d-b4a7-47e4-b712-844d68dba63c",
   "metadata": {},
   "outputs": [],
   "source": []
  },
  {
   "cell_type": "code",
   "execution_count": null,
   "id": "f2aa549d-52b4-4253-8ff4-b173dde335ff",
   "metadata": {},
   "outputs": [],
   "source": []
  },
  {
   "cell_type": "code",
   "execution_count": null,
   "id": "0c109eac-a527-4b0b-bcac-894530b14979",
   "metadata": {},
   "outputs": [],
   "source": []
  },
  {
   "cell_type": "code",
   "execution_count": null,
   "id": "e2a3f63a-88af-4846-9384-289420678d29",
   "metadata": {},
   "outputs": [],
   "source": []
  },
  {
   "cell_type": "code",
   "execution_count": null,
   "id": "b6198566-4c99-4056-9671-e981fe7dfb4e",
   "metadata": {},
   "outputs": [],
   "source": []
  },
  {
   "cell_type": "code",
   "execution_count": null,
   "id": "2a918b8f-51df-4979-bc82-5c5710b8fb16",
   "metadata": {},
   "outputs": [],
   "source": []
  }
 ],
 "metadata": {
  "kernelspec": {
   "display_name": "Python (cacofoni_env)",
   "language": "python",
   "name": "cacofoni_env"
  },
  "language_info": {
   "codemirror_mode": {
    "name": "ipython",
    "version": 3
   },
   "file_extension": ".py",
   "mimetype": "text/x-python",
   "name": "python",
   "nbconvert_exporter": "python",
   "pygments_lexer": "ipython3",
   "version": "3.6.8"
  }
 },
 "nbformat": 4,
 "nbformat_minor": 5
}
