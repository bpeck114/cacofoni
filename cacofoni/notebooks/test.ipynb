{
 "cells": [
  {
   "cell_type": "code",
   "execution_count": 24,
   "id": "2a2f396e-7ac8-430d-aef1-5111aaab99e8",
   "metadata": {},
   "outputs": [
    {
     "name": "stdout",
     "output_type": "stream",
     "text": [
      "Exists? True\n"
     ]
    }
   ],
   "source": [
    "#load_ext autoreload\n",
    "%autoreload 2\n",
    "\n",
    "import os\n",
    "path = os.path.expanduser(\"~/cacofoni/cacofoni/__init__.py\")\n",
    "print(\"Exists?\", os.path.exists(path))\n",
    "import cacofoni.data"
   ]
  },
  {
   "cell_type": "code",
   "execution_count": 25,
   "id": "549c1f36-23ab-43b2-8bec-bbc41d1db0da",
   "metadata": {},
   "outputs": [
    {
     "name": "stdout",
     "output_type": "stream",
     "text": [
      "<module 'cacofoni.data' from '/home/bpeck/cacofoni/cacofoni/data/__init__.py'>\n"
     ]
    }
   ],
   "source": [
    "print(cacofoni.data)"
   ]
  },
  {
   "cell_type": "code",
   "execution_count": 27,
   "id": "38caa10d-b4a7-47e4-b712-844d68dba63c",
   "metadata": {},
   "outputs": [],
   "source": [
    "import importlib_resources as resources"
   ]
  },
  {
   "cell_type": "code",
   "execution_count": 5,
   "id": "f2aa549d-52b4-4253-8ff4-b173dde335ff",
   "metadata": {},
   "outputs": [],
   "source": [
    "#%autoreload 2\n",
    "from astropy.io import fits\n",
    "from cacofoni.config import CacophonyConfig\n",
    "# import sys\n",
    "# sys.path.append('/home/bpeck/cacofoni')\n",
    "import cacofoni"
   ]
  },
  {
   "cell_type": "code",
   "execution_count": 8,
   "id": "0c109eac-a527-4b0b-bcac-894530b14979",
   "metadata": {},
   "outputs": [],
   "source": [
    "config = CacophonyConfig()\n",
    "mirmodes_path = config.mirror_modes_path"
   ]
  },
  {
   "cell_type": "code",
   "execution_count": 16,
   "id": "e2a3f63a-88af-4846-9384-289420678d29",
   "metadata": {},
   "outputs": [
    {
     "name": "stdout",
     "output_type": "stream",
     "text": [
      "Filename: /home/bpeck/cacofoni/cacofoni/data/mm2a_norm.fits\n",
      "No.    Name      Ver    Type      Cards   Dimensions   Format\n",
      "  0  PRIMARY       1 PrimaryHDU       8   (36, 36)   float64   \n"
     ]
    }
   ],
   "source": [
    "hdul = fits.open(mirmodes_path)\n",
    "hdul.info()"
   ]
  },
  {
   "cell_type": "code",
   "execution_count": 19,
   "id": "b6198566-4c99-4056-9671-e981fe7dfb4e",
   "metadata": {},
   "outputs": [
    {
     "name": "stdout",
     "output_type": "stream",
     "text": [
      "Filename: /data/asm/20250326/ao/aocb0090.fits\n",
      "No.    Name      Ver    Type      Cards   Dimensions   Format\n",
      "  0  PRIMARY       1 PrimaryHDU      29   (5, 27000)   int32   \n",
      "  1                1 ImageHDU        23   (1,)   int16 (rescales to uint16)   \n",
      "  2                1 ImageHDU        10   (1,)   float32   \n",
      "  3                1 ImageHDU         8   (288, 1, 27000)   float32   \n",
      "  4                1 ImageHDU         8   (64, 2, 27000)   float32   \n",
      "  5                1 ImageHDU        10   (120, 120, 1)   float32   \n",
      "  6                1 ImageHDU         7   (288, 1)   float32   \n",
      "  7                1 ImageHDU         7   (64, 1)   float32   \n",
      "  8                1 ImageHDU        11   (288, 1, 27000)   float32   \n",
      "  9                1 ImageHDU         8   (1,)   float32   \n",
      " 10                1 ImageHDU         8   (1,)   float32   \n",
      " 11                1 ImageHDU         8   (1,)   float32   \n",
      " 12                1 ImageHDU         8   (1,)   float32   \n",
      " 13                1 ImageHDU         8   (1,)   float32   \n",
      " 14                1 ImageHDU         8   (1,)   float32   \n",
      " 15                1 ImageHDU         8   (1,)   float32   \n"
     ]
    }
   ],
   "source": [
    "hdul = fits.open(\"/data/asm/20250326/ao/aocb0090.fits\")\n",
    "hdul.info()"
   ]
  },
  {
   "cell_type": "code",
   "execution_count": null,
   "id": "2a918b8f-51df-4979-bc82-5c5710b8fb16",
   "metadata": {},
   "outputs": [],
   "source": []
  }
 ],
 "metadata": {
  "kernelspec": {
   "display_name": "Python (cacofoni_env)",
   "language": "python",
   "name": "cacofoni_env"
  },
  "language_info": {
   "codemirror_mode": {
    "name": "ipython",
    "version": 3
   },
   "file_extension": ".py",
   "mimetype": "text/x-python",
   "name": "python",
   "nbconvert_exporter": "python",
   "pygments_lexer": "ipython3",
   "version": "3.6.8"
  }
 },
 "nbformat": 4,
 "nbformat_minor": 5
}
